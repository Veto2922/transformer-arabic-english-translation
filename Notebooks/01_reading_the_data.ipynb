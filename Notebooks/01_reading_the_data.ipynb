{
 "cells": [
  {
   "cell_type": "code",
   "execution_count": 8,
   "id": "7a33689a",
   "metadata": {},
   "outputs": [],
   "source": [
    "import torch\n",
    "import torch.nn as nn\n",
    "\n",
    "from datasets import load_dataset"
   ]
  },
  {
   "cell_type": "code",
   "execution_count": 7,
   "id": "d8dab8bf",
   "metadata": {},
   "outputs": [
    {
     "data": {
      "text/plain": [
       "device(type='cuda')"
      ]
     },
     "execution_count": 7,
     "metadata": {},
     "output_type": "execute_result"
    }
   ],
   "source": [
    "SEEP = 7\n",
    "DEVICE = torch.device(\"cuda\" if torch.cuda.is_available() else \"cpu\")\n",
    "\n",
    "DEVICE"
   ]
  },
  {
   "cell_type": "markdown",
   "id": "8ee864c1",
   "metadata": {},
   "source": [
    "# load data set"
   ]
  },
  {
   "cell_type": "markdown",
   "id": "6e905172",
   "metadata": {},
   "source": [
    "### data set link : https://huggingface.co/datasets/Helsinki-NLP/opus-100/viewer/ar-en?views%5B%5D=ar_en_train"
   ]
  },
  {
   "cell_type": "code",
   "execution_count": null,
   "id": "b4ef6d50",
   "metadata": {},
   "outputs": [],
   "source": [
    "\n",
    "dataset = load_dataset(\"opus100\", \"ar-en\")\n"
   ]
  },
  {
   "cell_type": "code",
   "execution_count": 9,
   "id": "ce87aa77",
   "metadata": {},
   "outputs": [
    {
     "data": {
      "text/plain": [
       "DatasetDict({\n",
       "    test: Dataset({\n",
       "        features: ['translation'],\n",
       "        num_rows: 2000\n",
       "    })\n",
       "    train: Dataset({\n",
       "        features: ['translation'],\n",
       "        num_rows: 1000000\n",
       "    })\n",
       "    validation: Dataset({\n",
       "        features: ['translation'],\n",
       "        num_rows: 2000\n",
       "    })\n",
       "})"
      ]
     },
     "execution_count": 9,
     "metadata": {},
     "output_type": "execute_result"
    }
   ],
   "source": [
    "dataset"
   ]
  },
  {
   "cell_type": "code",
   "execution_count": 6,
   "id": "9308b756",
   "metadata": {},
   "outputs": [
    {
     "data": {
      "text/plain": [
       "{'ar': 'لقد ورثت حكومتي بلدا كان ممزقا، بلا موارد مالية ولا هياكل أساسية، وهو ما صوره الأمين العام في تقريره بكل وضوح.',\n",
       " 'en': \"My Government inherited a country that was in a shambles, as is very well portrayed in the Secretary-General's report, without financial resources and infrastructure.\"}"
      ]
     },
     "execution_count": 6,
     "metadata": {},
     "output_type": "execute_result"
    }
   ],
   "source": [
    "dataset[\"train\"][1000]['translation']"
   ]
  },
  {
   "cell_type": "code",
   "execution_count": 28,
   "id": "18794ca4",
   "metadata": {},
   "outputs": [
    {
     "data": {
      "text/plain": [
       "\"My Government inherited a country that was in a shambles, as is very well portrayed in the Secretary-General's report, without financial resources and infrastructure.\""
      ]
     },
     "execution_count": 28,
     "metadata": {},
     "output_type": "execute_result"
    }
   ],
   "source": [
    "dataset[\"train\"][1000]['translation']['en']"
   ]
  },
  {
   "cell_type": "markdown",
   "id": "aedcbd43",
   "metadata": {},
   "source": [
    "# save tha data set in files "
   ]
  },
  {
   "cell_type": "code",
   "execution_count": 10,
   "id": "2cb41f10",
   "metadata": {},
   "outputs": [
    {
     "name": "stdout",
     "output_type": "stream",
     "text": [
      "saving done ✅ (train.en & train.ar)\n"
     ]
    }
   ],
   "source": [
    "train_data = dataset[\"train\"]\n",
    "\n",
    "with open(r\"..\\Data\\raw_data\\train.en\", \"w\", encoding=\"utf-8\") as f_en, open(r\"..\\Data\\train.ar\", \"w\", encoding=\"utf-8\") as f_ar:\n",
    "    for sample in train_data:\n",
    "        f_en.write(sample[\"translation\"][\"en\"].strip() + \"\\n\")\n",
    "        f_ar.write(sample[\"translation\"][\"ar\"].strip() + \"\\n\")\n",
    "\n",
    "print(\"saving done ✅ (train.en & train.ar)\")"
   ]
  },
  {
   "cell_type": "code",
   "execution_count": 11,
   "id": "27fef44f",
   "metadata": {},
   "outputs": [
    {
     "name": "stderr",
     "output_type": "stream",
     "text": [
      "<string>:3: SyntaxWarning: invalid escape sequence '\\{'\n",
      "<string>:3: SyntaxWarning: invalid escape sequence '\\{'\n",
      "<>:3: SyntaxWarning: invalid escape sequence '\\{'\n",
      "<>:3: SyntaxWarning: invalid escape sequence '\\D'\n",
      "<>:3: SyntaxWarning: invalid escape sequence '\\{'\n",
      "<>:3: SyntaxWarning: invalid escape sequence '\\D'\n",
      "<string>:3: SyntaxWarning: invalid escape sequence '\\{'\n",
      "<string>:3: SyntaxWarning: invalid escape sequence '\\{'\n",
      "<>:3: SyntaxWarning: invalid escape sequence '\\{'\n",
      "<>:3: SyntaxWarning: invalid escape sequence '\\D'\n",
      "<>:3: SyntaxWarning: invalid escape sequence '\\{'\n",
      "<>:3: SyntaxWarning: invalid escape sequence '\\D'\n",
      "C:\\Users\\DELL\\AppData\\Local\\Temp\\ipykernel_26164\\2467631108.py:3: SyntaxWarning: invalid escape sequence '\\{'\n",
      "  with open(f\"..\\Data\\{split}.en\", \"w\", encoding=\"utf-8\") as f_en, open(f\"..\\Data\\{split}.ar\", \"w\", encoding=\"utf-8\") as f_ar:\n",
      "C:\\Users\\DELL\\AppData\\Local\\Temp\\ipykernel_26164\\2467631108.py:3: SyntaxWarning: invalid escape sequence '\\D'\n",
      "  with open(f\"..\\Data\\{split}.en\", \"w\", encoding=\"utf-8\") as f_en, open(f\"..\\Data\\{split}.ar\", \"w\", encoding=\"utf-8\") as f_ar:\n",
      "C:\\Users\\DELL\\AppData\\Local\\Temp\\ipykernel_26164\\2467631108.py:3: SyntaxWarning: invalid escape sequence '\\{'\n",
      "  with open(f\"..\\Data\\{split}.en\", \"w\", encoding=\"utf-8\") as f_en, open(f\"..\\Data\\{split}.ar\", \"w\", encoding=\"utf-8\") as f_ar:\n",
      "C:\\Users\\DELL\\AppData\\Local\\Temp\\ipykernel_26164\\2467631108.py:3: SyntaxWarning: invalid escape sequence '\\D'\n",
      "  with open(f\"..\\Data\\{split}.en\", \"w\", encoding=\"utf-8\") as f_en, open(f\"..\\Data\\{split}.ar\", \"w\", encoding=\"utf-8\") as f_ar:\n"
     ]
    },
    {
     "name": "stdout",
     "output_type": "stream",
     "text": [
      "saving done ✅ (validation.en & validation.ar)\n",
      "saving done ✅ (test.en & test.ar)\n"
     ]
    }
   ],
   "source": [
    "for split in [\"validation\", \"test\"]:\n",
    "    data = dataset[split]\n",
    "    with open(f\"..\\Data\\raw_data\\{split}.en\", \"w\", encoding=\"utf-8\") as f_en, open(f\"..\\Data\\{split}.ar\", \"w\", encoding=\"utf-8\") as f_ar:\n",
    "        for sample in data:\n",
    "            f_en.write(sample[\"translation\"][\"en\"].strip() + \"\\n\")\n",
    "            f_ar.write(sample[\"translation\"][\"ar\"].strip() + \"\\n\")\n",
    "    print(f\"saving done ✅ ({split}.en & {split}.ar)\")\n"
   ]
  }
 ],
 "metadata": {
  "kernelspec": {
   "display_name": "venv",
   "language": "python",
   "name": "python3"
  },
  "language_info": {
   "codemirror_mode": {
    "name": "ipython",
    "version": 3
   },
   "file_extension": ".py",
   "mimetype": "text/x-python",
   "name": "python",
   "nbconvert_exporter": "python",
   "pygments_lexer": "ipython3",
   "version": "3.12.4"
  }
 },
 "nbformat": 4,
 "nbformat_minor": 5
}
