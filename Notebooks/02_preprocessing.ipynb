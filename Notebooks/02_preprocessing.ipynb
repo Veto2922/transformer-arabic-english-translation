{
 "cells": [
  {
   "cell_type": "markdown",
   "id": "23381f14",
   "metadata": {},
   "source": [
    "للعربي:\n",
    "\n",
    "إزالة التشكيل (الحركات).\n",
    "\n",
    "إزالة التطويل (ــــ).\n",
    "\n",
    "توحيد الألف/الهمزات (أ إ آ → ا).\n",
    "\n",
    "تحويل الأرقام العربية (٠١٢٣…) إلى لاتينية (0123…).\n",
    "\n",
    "إزالة المسافات المكررة.\n",
    "\n",
    "للإنجليزي:\n",
    "\n",
    "\n",
    "إزالة مسافات زائدة."
   ]
  },
  {
   "cell_type": "code",
   "execution_count": 4,
   "id": "6f9aaf14",
   "metadata": {},
   "outputs": [],
   "source": [
    "import re\n",
    "from pathlib import Path\n",
    "\n",
    "# =========================\n",
    "# 1) دوال التطبيع\n",
    "# =========================\n",
    "\n",
    "# حذف التشكيل من العربي\n",
    "AR_DIAC = re.compile(r\"[\\u0610-\\u061A\\u064B-\\u065F\\u06D6-\\u06ED]\")  \n",
    "TATWEEL = \"\\u0640\"\n",
    "\n",
    "def normalize_ar(text: str) -> str:\n",
    "    text = text.replace(TATWEEL, \"\")               # شيل التطويل\n",
    "    text = AR_DIAC.sub(\"\", text)                   # شيل التشكيل\n",
    "    text = text.replace(\"أ\",\"ا\").replace(\"إ\",\"ا\").replace(\"آ\",\"ا\")  # توحيد الألف\n",
    "    text = text.replace(\"ى\",\"ي\")                   # توحيد الياء\n",
    "    # الأرقام العربية → لاتينية\n",
    "    text = text.translate(str.maketrans(\"٠١٢٣٤٥٦٧٨٩\", \"0123456789\"))\n",
    "    # شيل المسافات الزيادة\n",
    "    text = re.sub(r\"\\s+\", \" \", text).strip()\n",
    "    return text\n",
    "\n",
    "def normalize_en(text: str) -> str:\n",
    "    text = re.sub(r\"\\s+\", \" \", text).strip()       # شيل المسافات الزيادة\n",
    "    return text\n",
    "\n"
   ]
  },
  {
   "cell_type": "code",
   "execution_count": 5,
   "id": "1e9e0bef",
   "metadata": {},
   "outputs": [
    {
     "name": "stdout",
     "output_type": "stream",
     "text": [
      "تم حفظ الملفات المطبعّة ✅ (train.norm.en & train.norm.ar)\n",
      "تم حفظ الملفات المطبعّة ✅ (validation.norm.en & validation.norm.ar)\n",
      "تم حفظ الملفات المطبعّة ✅ (test.norm.en & test.norm.ar)\n"
     ]
    }
   ],
   "source": [
    "# =========================\n",
    "# 2) تطبيق التطبيع على الملفات\n",
    "# =========================\n",
    "\n",
    "data_dir = Path(\"../Data\")\n",
    "\n",
    "for split in [\"train\", \"validation\", \"test\"]:\n",
    "    # ملفات الإدخال\n",
    "    en_file = data_dir / f\"{split}.en\"\n",
    "    ar_file = data_dir / f\"{split}.ar\"\n",
    "    # ملفات الإخراج بعد التطبيع\n",
    "    en_out = data_dir / f\"cleaned_data/{split}.norm.en\"\n",
    "    ar_out = data_dir / f\"cleaned_data/{split}.norm.ar\"\n",
    "\n",
    "    with open(en_file, \"r\", encoding=\"utf-8\") as f_en, \\\n",
    "         open(ar_file, \"r\", encoding=\"utf-8\") as f_ar, \\\n",
    "         open(en_out, \"w\", encoding=\"utf-8\") as f_en_out, \\\n",
    "         open(ar_out, \"w\", encoding=\"utf-8\") as f_ar_out:\n",
    "\n",
    "        for en_line, ar_line in zip(f_en, f_ar):\n",
    "            # طبّق التطبيع\n",
    "            en_clean = normalize_en(en_line)\n",
    "            ar_clean = normalize_ar(ar_line)\n",
    "            # اكتب في الملف الجديد\n",
    "            if en_clean and ar_clean:   # تجاهل السطور الفاضية\n",
    "                f_en_out.write(en_clean + \"\\n\")\n",
    "                f_ar_out.write(ar_clean + \"\\n\")\n",
    "\n",
    "    print(f\"تم حفظ الملفات المطبعّة ✅ ({split}.norm.en & {split}.norm.ar)\")"
   ]
  },
  {
   "cell_type": "code",
   "execution_count": null,
   "id": "a62bb1e0",
   "metadata": {},
   "outputs": [],
   "source": []
  }
 ],
 "metadata": {
  "kernelspec": {
   "display_name": "venv",
   "language": "python",
   "name": "python3"
  },
  "language_info": {
   "codemirror_mode": {
    "name": "ipython",
    "version": 3
   },
   "file_extension": ".py",
   "mimetype": "text/x-python",
   "name": "python",
   "nbconvert_exporter": "python",
   "pygments_lexer": "ipython3",
   "version": "3.12.4"
  }
 },
 "nbformat": 4,
 "nbformat_minor": 5
}
