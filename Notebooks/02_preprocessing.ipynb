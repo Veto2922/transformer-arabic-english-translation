{
 "cells": [
  {
   "cell_type": "code",
   "execution_count": 1,
   "id": "b6c0c375",
   "metadata": {},
   "outputs": [],
   "source": [
    "import re\n",
    "from pathlib import Path\n"
   ]
  },
  {
   "cell_type": "markdown",
   "id": "9f719576",
   "metadata": {},
   "source": [
    "# 1) Normalization Functions\n"
   ]
  },
  {
   "cell_type": "code",
   "execution_count": 10,
   "id": "6f9aaf14",
   "metadata": {},
   "outputs": [],
   "source": [
    "\n",
    "# Regex for Arabic diacritics\n",
    "AR_DIAC = re.compile(r\"[\\u0610-\\u061A\\u064B-\\u065F\\u06D6-\\u06ED]\")  \n",
    "TATWEEL = \"\\u0640\"  # Arabic tatweel (elongation character)\n",
    "\n",
    "def normalize_ar(text: str) -> str:\n",
    "    \"\"\"\n",
    "    Normalize Arabic text by:\n",
    "    - Removing tatweel (ـــ)\n",
    "    - Removing diacritics (harakat)\n",
    "    - Unifying alef/hamza forms (أ, إ, آ → ا)\n",
    "    - Normalizing yaa' (ى → ي)\n",
    "    - Converting Arabic digits (٠١٢٣...) to Latin digits (0123...)\n",
    "    - Removing extra spaces\n",
    "    \"\"\"\n",
    "    text = text.replace(TATWEEL, \"\")\n",
    "    text = AR_DIAC.sub(\"\", text)\n",
    "    text = text.replace(\"أ\", \"ا\").replace(\"إ\", \"ا\").replace(\"آ\", \"ا\")\n",
    "    text = text.replace(\"ى\", \"ي\")\n",
    "    text = text.translate(str.maketrans(\"٠١٢٣٤٥٦٧٨٩\", \"0123456789\"))\n",
    "    text = re.sub(r\"\\s+\", \" \", text).strip()\n",
    "    return text\n",
    "\n",
    "def normalize_en(text: str) -> str:\n",
    "    \"\"\"\n",
    "    Normalize English text by:\n",
    "    - Removing extra spaces\n",
    "    (Optional: could also lowercase and remove punctuation if needed)\n",
    "    \"\"\"\n",
    "    text = re.sub(r\"\\s+\", \" \", text).strip()\n",
    "    return text\n",
    "\n",
    "\n"
   ]
  },
  {
   "cell_type": "markdown",
   "id": "7f20840c",
   "metadata": {},
   "source": [
    "# 2) Apply Normalization to Files"
   ]
  },
  {
   "cell_type": "code",
   "execution_count": 12,
   "id": "a62bb1e0",
   "metadata": {},
   "outputs": [
    {
     "name": "stdout",
     "output_type": "stream",
     "text": [
      "✅ Saved normalized files: train.cleaned.en & train.cleaned.ar\n",
      "✅ Saved normalized files: validation.cleaned.en & validation.cleaned.ar\n",
      "✅ Saved normalized files: test.cleaned.en & test.cleaned.ar\n"
     ]
    }
   ],
   "source": [
    "\n",
    "\n",
    "data_dir = Path(r\"..\\Data\\raw_data\")\n",
    "output_dir = Path(r\"..\\Data\\cleaned_data\")\n",
    "\n",
    "for split in [\"train\", \"validation\", \"test\"]:\n",
    "    # Input files\n",
    "    en_file = data_dir / f\"{split}.en\"\n",
    "    ar_file = data_dir / f\"{split}.ar\"\n",
    "    \n",
    "    # Output files after normalization\n",
    "    \n",
    "    en_out = output_dir / f\"{split}.cleaned.en\"\n",
    "    ar_out = output_dir / f\"{split}.cleaned.ar\"\n",
    "\n",
    "    with open(en_file, \"r\", encoding=\"utf-8\") as f_en, \\\n",
    "         open(ar_file, \"r\", encoding=\"utf-8\") as f_ar, \\\n",
    "         open(en_out, \"w\", encoding=\"utf-8\") as f_en_out, \\\n",
    "         open(ar_out, \"w\", encoding=\"utf-8\") as f_ar_out:\n",
    "\n",
    "        for en_line, ar_line in zip(f_en, f_ar):\n",
    "            # Apply normalization\n",
    "            en_clean = normalize_en(en_line)\n",
    "            ar_clean = normalize_ar(ar_line)\n",
    "\n",
    "            # Write to the new file if both lines are not empty\n",
    "            if en_clean and ar_clean:\n",
    "                f_en_out.write(en_clean + \"\\n\")\n",
    "                f_ar_out.write(ar_clean + \"\\n\")\n",
    "\n",
    "    print(f\"✅ Saved normalized files: {split}.cleaned.en & {split}.cleaned.ar\")\n"
   ]
  },
  {
   "cell_type": "code",
   "execution_count": null,
   "id": "0389b0af",
   "metadata": {},
   "outputs": [],
   "source": []
  }
 ],
 "metadata": {
  "kernelspec": {
   "display_name": "venv",
   "language": "python",
   "name": "python3"
  },
  "language_info": {
   "codemirror_mode": {
    "name": "ipython",
    "version": 3
   },
   "file_extension": ".py",
   "mimetype": "text/x-python",
   "name": "python",
   "nbconvert_exporter": "python",
   "pygments_lexer": "ipython3",
   "version": "3.12.4"
  }
 },
 "nbformat": 4,
 "nbformat_minor": 5
}
